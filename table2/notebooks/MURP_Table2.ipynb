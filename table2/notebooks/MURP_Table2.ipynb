{
 "cells": [
  {
   "cell_type": "code",
   "execution_count": 1,
   "id": "6c40dc2c-530f-48a0-8999-02190e36f81d",
   "metadata": {},
   "outputs": [],
   "source": [
    "import numpy as np\n",
    "import matplotlib.pyplot as plt\n",
    "import sympy as S\n",
    "from tqdm.auto import tqdm\n",
    "import pandas as pd"
   ]
  },
  {
   "cell_type": "code",
   "execution_count": 2,
   "id": "e5c4398f-685e-40d8-a767-84347c415162",
   "metadata": {},
   "outputs": [],
   "source": [
    "x, y, z, rx, ry, rz = S.symbols(r'x y z \\alpha \\beta \\gamma')\n",
    "L = S.symbols('L')"
   ]
  },
  {
   "cell_type": "code",
   "execution_count": 3,
   "id": "f2e1693b-d090-4759-97f6-d0e8c7c95ebd",
   "metadata": {},
   "outputs": [],
   "source": [
    "rx_mat = S.Matrix([\n",
    "    [1, 0, 0],\n",
    "    [0, S.cos(rx), -S.sin(rx)],\n",
    "    [0, S.sin(rx), S.cos(rx)]\n",
    "])"
   ]
  },
  {
   "cell_type": "code",
   "execution_count": 4,
   "id": "5797d0d7-af12-464e-b380-aeb7571a583c",
   "metadata": {},
   "outputs": [],
   "source": [
    "ry_mat = S.Matrix([\n",
    "    [S.cos(ry), 0, S.sin(ry)],\n",
    "    [0, 1, 0],\n",
    "    [-S.sin(ry), 0, S.cos(ry)]\n",
    "])"
   ]
  },
  {
   "cell_type": "code",
   "execution_count": 5,
   "id": "6c60a873-604c-4549-8efc-829d0746e6bc",
   "metadata": {},
   "outputs": [],
   "source": [
    "rz_mat = S.Matrix([\n",
    "    [S.cos(rz), -S.sin(rz), 0],\n",
    "    [S.sin(rz), S.cos(rz), 0],\n",
    "    [0, 0, 1]\n",
    "])"
   ]
  },
  {
   "cell_type": "code",
   "execution_count": 6,
   "id": "688ea024-7c34-4650-a505-e4abbe3798d0",
   "metadata": {},
   "outputs": [],
   "source": [
    "rot_mat = rz_mat @ ry_mat @ rx_mat"
   ]
  },
  {
   "cell_type": "code",
   "execution_count": 7,
   "id": "66db36b9-d73f-4e7c-9b1f-2a57fb962128",
   "metadata": {},
   "outputs": [],
   "source": [
    "trans_vec = S.Matrix([x, y, z])"
   ]
  },
  {
   "cell_type": "code",
   "execution_count": 8,
   "id": "46681b1d-93de-49f6-8755-e04ab497f80d",
   "metadata": {},
   "outputs": [],
   "source": [
    "T = S.Matrix(np.zeros((4,4)))\n",
    "T[0:3,0:3] = rot_mat\n",
    "T[0:3,3] = trans_vec\n",
    "T[3,3] = 1"
   ]
  },
  {
   "cell_type": "code",
   "execution_count": 9,
   "id": "214a68a0-e89a-463e-a998-e95bcebd5e04",
   "metadata": {},
   "outputs": [],
   "source": [
    "def begin_homogeneous(M):\n",
    "    assert len(M.shape) == 2\n",
    "    R,C = M.shape\n",
    "    assert R == 3\n",
    "    res = np.ones((4,C))\n",
    "    res = S.Matrix(res)\n",
    "    res[0:3,:] = M[:,:]\n",
    "    return res"
   ]
  },
  {
   "cell_type": "code",
   "execution_count": 10,
   "id": "0d94d38d-7e66-454c-9bca-a68bbd42e333",
   "metadata": {},
   "outputs": [],
   "source": [
    "def end_homogeneous(M):\n",
    "    assert len(M.shape) == 2\n",
    "    R,C = M.shape\n",
    "    assert R == 4\n",
    "    res = M[0:3,:]\n",
    "    return res"
   ]
  },
  {
   "cell_type": "code",
   "execution_count": 11,
   "id": "5ed67650-4227-41fe-bee1-5248e9fc3da5",
   "metadata": {},
   "outputs": [],
   "source": [
    "def mk_planar_antenna_matrix(COUNT,R=1):\n",
    "    SEP_RAD = 2*np.pi/COUNT\n",
    "    ant = [[R*np.cos(SEP_RAD/2 + i*SEP_RAD), R*np.sin(SEP_RAD/2 + i*SEP_RAD), 0] for i in range(A_ANT_COUNT)]\n",
    "    ant = S.Matrix(ant).T\n",
    "    assert ant.shape == (3,COUNT)\n",
    "    return ant"
   ]
  },
  {
   "cell_type": "code",
   "execution_count": 12,
   "id": "3e5674a4-be74-4966-9986-ffcb567a7bfe",
   "metadata": {},
   "outputs": [],
   "source": [
    "def dist_matrix(A, B):\n",
    "    A_c = A.cols\n",
    "    B_c = B.cols\n",
    "    \n",
    "    d = S.Matrix(np.zeros((A_c,B_c)))\n",
    "    \n",
    "    for i in range(A_c):\n",
    "        for j in range(B_c):\n",
    "            delta = A.col(i) - B.col(j)\n",
    "            dot = delta.T @ delta\n",
    "            d[i,j] = S.sqrt(dot[0])\n",
    "    \n",
    "    return d"
   ]
  },
  {
   "cell_type": "code",
   "execution_count": 13,
   "id": "118d68a0-5628-487e-afe4-8e1f681b91ed",
   "metadata": {},
   "outputs": [],
   "source": [
    "A_ANT_COUNT = 6\n",
    "A_ant = mk_planar_antenna_matrix(A_ANT_COUNT,R=L)\n",
    "\n",
    "B_ANT_COUNT = 6\n",
    "B_ant = mk_planar_antenna_matrix(B_ANT_COUNT,R=L)"
   ]
  },
  {
   "cell_type": "code",
   "execution_count": 14,
   "id": "06ea2b84-a3b7-40de-9ecf-5dce1e45c8da",
   "metadata": {},
   "outputs": [
    {
     "data": {
      "text/latex": [
       "$\\displaystyle \\left[\\begin{matrix}0 & 1.0 \\sqrt{L^{2}} & 1.73205080756888 \\sqrt{L^{2}} & 2.0 \\sqrt{L^{2}} & 1.73205080756888 \\sqrt{L^{2}} & 1.0 \\sqrt{L^{2}}\\\\1.0 \\sqrt{L^{2}} & 0 & 1.0 \\sqrt{L^{2}} & 1.73205080756888 \\sqrt{L^{2}} & 2.0 \\sqrt{L^{2}} & 1.73205080756888 \\sqrt{L^{2}}\\\\1.73205080756888 \\sqrt{L^{2}} & 1.0 \\sqrt{L^{2}} & 0 & 1.0 \\sqrt{L^{2}} & 1.73205080756888 \\sqrt{L^{2}} & 2.0 \\sqrt{L^{2}}\\\\2.0 \\sqrt{L^{2}} & 1.73205080756888 \\sqrt{L^{2}} & 1.0 \\sqrt{L^{2}} & 0 & 1.0 \\sqrt{L^{2}} & 1.73205080756888 \\sqrt{L^{2}}\\\\1.73205080756888 \\sqrt{L^{2}} & 2.0 \\sqrt{L^{2}} & 1.73205080756888 \\sqrt{L^{2}} & 1.0 \\sqrt{L^{2}} & 0 & 1.0 \\sqrt{L^{2}}\\\\1.0 \\sqrt{L^{2}} & 1.73205080756888 \\sqrt{L^{2}} & 2.0 \\sqrt{L^{2}} & 1.73205080756888 \\sqrt{L^{2}} & 1.0 \\sqrt{L^{2}} & 0\\end{matrix}\\right]$"
      ],
      "text/plain": [
       "Matrix([\n",
       "[                          0,              1.0*sqrt(L**2), 1.73205080756888*sqrt(L**2),              2.0*sqrt(L**2), 1.73205080756888*sqrt(L**2),              1.0*sqrt(L**2)],\n",
       "[             1.0*sqrt(L**2),                           0,              1.0*sqrt(L**2), 1.73205080756888*sqrt(L**2),              2.0*sqrt(L**2), 1.73205080756888*sqrt(L**2)],\n",
       "[1.73205080756888*sqrt(L**2),              1.0*sqrt(L**2),                           0,              1.0*sqrt(L**2), 1.73205080756888*sqrt(L**2),              2.0*sqrt(L**2)],\n",
       "[             2.0*sqrt(L**2), 1.73205080756888*sqrt(L**2),              1.0*sqrt(L**2),                           0,              1.0*sqrt(L**2), 1.73205080756888*sqrt(L**2)],\n",
       "[1.73205080756888*sqrt(L**2),              2.0*sqrt(L**2), 1.73205080756888*sqrt(L**2),              1.0*sqrt(L**2),                           0,              1.0*sqrt(L**2)],\n",
       "[             1.0*sqrt(L**2), 1.73205080756888*sqrt(L**2),              2.0*sqrt(L**2), 1.73205080756888*sqrt(L**2),              1.0*sqrt(L**2),                           0]])"
      ]
     },
     "execution_count": 14,
     "metadata": {},
     "output_type": "execute_result"
    }
   ],
   "source": [
    "dist_matrix(A_ant, B_ant)"
   ]
  },
  {
   "cell_type": "code",
   "execution_count": 15,
   "id": "7a3ec66c-45d1-4896-9231-d1f298996ee8",
   "metadata": {},
   "outputs": [],
   "source": [
    "A = A_ant\n",
    "B = end_homogeneous(T @ begin_homogeneous(B_ant))\n",
    "D = dist_matrix(A, B)"
   ]
  },
  {
   "cell_type": "code",
   "execution_count": 16,
   "id": "09671c62-0351-47f4-867e-d54b35df17af",
   "metadata": {},
   "outputs": [],
   "source": [
    "meas_uwb = D.reshape(A_ANT_COUNT * B_ANT_COUNT,1)\n",
    "meas_uwb_alt = meas_uwb.row_insert(36,S.Matrix([[z]]))"
   ]
  },
  {
   "cell_type": "code",
   "execution_count": 31,
   "id": "e8b4f371-84c3-4ae8-b03e-97705dff7d42",
   "metadata": {},
   "outputs": [],
   "source": [
    "subs = {\n",
    "    rx: 0,\n",
    "    ry: 0,\n",
    "    rz: 0,\n",
    "    L: .32,\n",
    "}\n",
    "\n",
    "meas_uwb = meas_uwb.subs(subs)\n",
    "meas_uwb_alt = meas_uwb_alt.subs(subs)"
   ]
  },
  {
   "cell_type": "code",
   "execution_count": 32,
   "id": "3eb0aec5-79fe-4b9d-befa-d627b32454a0",
   "metadata": {},
   "outputs": [],
   "source": [
    "def mk_A(meas,states):\n",
    "    A = meas.jacobian(states)\n",
    "        \n",
    "    # A has row = number of measurements\n",
    "    # A has col = number of derivatives states\n",
    "    R,C = A.shape\n",
    "    assert R in [A_ANT_COUNT * B_ANT_COUNT, A_ANT_COUNT * B_ANT_COUNT + 1]\n",
    "    assert C == len(states)\n",
    "    \n",
    "    return A"
   ]
  },
  {
   "cell_type": "markdown",
   "id": "4e0349c9-ea09-442d-8378-80147fc91d71",
   "metadata": {
    "tags": []
   },
   "source": [
    "# Table"
   ]
  },
  {
   "cell_type": "code",
   "execution_count": 33,
   "id": "409b0e94-55bc-4b11-be5f-a431e0607aee",
   "metadata": {},
   "outputs": [],
   "source": [
    "def add_std(a_std,b_std):\n",
    "    return np.linalg.norm([a_std,b_std])\n",
    "\n",
    "def bound_to_std(pm_a,std=2):\n",
    "    return pm_a/std"
   ]
  },
  {
   "cell_type": "code",
   "execution_count": 34,
   "id": "1afcfd2f-a8fb-42a4-820b-b429c123e9f7",
   "metadata": {},
   "outputs": [],
   "source": [
    "STD_UWB = .24\n",
    "ALT_MEAS_STD = bound_to_std(.04,std=1)\n",
    "ALT_BOUND_STD = bound_to_std(1,std=1)"
   ]
  },
  {
   "cell_type": "code",
   "execution_count": 35,
   "id": "6d9e339e-76b4-4667-bbcc-3c8c607ab22d",
   "metadata": {},
   "outputs": [
    {
     "data": {
      "text/plain": [
       "(0.0016065806611703791, 0.3906186614565446, 0.010000000000000002)"
      ]
     },
     "execution_count": 35,
     "metadata": {},
     "output_type": "execute_result"
    }
   ],
   "source": [
    "def var_zx(subs,std_alt):\n",
    "    VAR_UWB = STD_UWB ** 2\n",
    "    VAR_ALT = std_alt ** 2\n",
    "    \n",
    "    Sigma = np.diag([VAR_UWB]*36 + [VAR_ALT])\n",
    "    A = mk_A(meas_uwb_alt,[x,y,z])\n",
    "    info = np.linalg.inv(Sigma)\n",
    "    G = A.T @ info @ A\n",
    "    G_subs = G.subs(subs)\n",
    "    G_arr = np.array(G_subs,dtype=np.float64)\n",
    "    G_inv = np.linalg.inv(G_arr)\n",
    "    cov = G_inv\n",
    "    vx,vy,vz = cov[0,0],cov[1,1],cov[2,2]\n",
    "    return vx,vy,vz\n",
    "\n",
    "var_zx({x:5,y:0,z:0},.1)"
   ]
  },
  {
   "cell_type": "code",
   "execution_count": 36,
   "id": "45dc62cb-ebbd-45f2-8102-2c7352e4e58e",
   "metadata": {},
   "outputs": [],
   "source": [
    "NAMES = ['unconstrained', 'extemely concervative (local)', 'very concervative (local)', 'concervative (local)', 'local meas only (proposed)', 'shared measurements']\n",
    "SIGMAS = [\n",
    "    1000, # large number to allow calculation, technically should be np.inf\n",
    "    add_std(.04,2),\n",
    "    add_std(.04,1),\n",
    "    add_std(.04,.2),\n",
    "    add_std(.04,.1),\n",
    "    add_std(.04,.04)\n",
    "]\n",
    "\n",
    "xs = [0,1,2.5,5,10,25] #,50]"
   ]
  },
  {
   "cell_type": "code",
   "execution_count": 37,
   "id": "904f9f9d-7cf6-43c5-8278-ae28461315d3",
   "metadata": {},
   "outputs": [],
   "source": [
    "def mk_data_arr(wrt):\n",
    "    SUBS_BASE = {x:5,y:0,z:1}\n",
    "    WRT = wrt\n",
    "\n",
    "    ys = [[] for i in range(len(SIGMAS))]\n",
    "\n",
    "    for i in tqdm(xs):\n",
    "        subs = SUBS_BASE.copy()\n",
    "        subs[WRT] = i\n",
    "\n",
    "        for j,sigma in enumerate(SIGMAS):\n",
    "            ys[j].append(var_zx(subs,sigma))\n",
    "\n",
    "    return np.array(ys)"
   ]
  },
  {
   "cell_type": "code",
   "execution_count": 38,
   "id": "b4d62d96-7299-4265-8aa1-285bf54865ea",
   "metadata": {},
   "outputs": [],
   "source": [
    "def mk_hvp(arr):\n",
    "    h = np.linalg.norm(arr[:,:,0:2],axis=2)\n",
    "    v = np.linalg.norm(arr[:,:,2:],axis=2)\n",
    "    p = np.linalg.norm(arr,axis=2)\n",
    "    h[h > 1e5] = np.infty # over threshold -> inf\n",
    "    v[v > 1e5] = np.infty\n",
    "    p[p > 1e5] = np.infty\n",
    "    return np.round(h,2),np.round(v,2),np.round(p,2)"
   ]
  },
  {
   "cell_type": "markdown",
   "id": "41a9c575-3b76-430d-8512-022abd7869fb",
   "metadata": {},
   "source": [
    "# Compute HDOP, VDOP, PDOP for varying $x$ at ($x$, $0$, $1$)"
   ]
  },
  {
   "cell_type": "code",
   "execution_count": 39,
   "id": "59da2ecf-1648-4338-8401-b5f175afb230",
   "metadata": {},
   "outputs": [
    {
     "data": {
      "application/vnd.jupyter.widget-view+json": {
       "model_id": "9f75220db17c40479bee55b00aa8da40",
       "version_major": 2,
       "version_minor": 0
      },
      "text/plain": [
       "  0%|          | 0/6 [00:00<?, ?it/s]"
      ]
     },
     "metadata": {},
     "output_type": "display_data"
    }
   ],
   "source": [
    "arr_x = mk_data_arr(x)\n",
    "arr_xh, arr_xv, arr_xp = mk_hvp(arr_x)"
   ]
  },
  {
   "cell_type": "code",
   "execution_count": 40,
   "id": "27608878-e72c-4104-aa70-df118ae4a230",
   "metadata": {},
   "outputs": [
    {
     "name": "stdout",
     "output_type": "stream",
     "text": [
      "xh\n"
     ]
    },
    {
     "data": {
      "text/html": [
       "<div>\n",
       "<style scoped>\n",
       "    .dataframe tbody tr th:only-of-type {\n",
       "        vertical-align: middle;\n",
       "    }\n",
       "\n",
       "    .dataframe tbody tr th {\n",
       "        vertical-align: top;\n",
       "    }\n",
       "\n",
       "    .dataframe thead th {\n",
       "        text-align: right;\n",
       "    }\n",
       "</style>\n",
       "<table border=\"1\" class=\"dataframe\">\n",
       "  <thead>\n",
       "    <tr style=\"text-align: right;\">\n",
       "      <th></th>\n",
       "      <th>0.0</th>\n",
       "      <th>1.0</th>\n",
       "      <th>2.5</th>\n",
       "      <th>5.0</th>\n",
       "      <th>10.0</th>\n",
       "      <th>25.0</th>\n",
       "    </tr>\n",
       "  </thead>\n",
       "  <tbody>\n",
       "    <tr>\n",
       "      <th>unconstrained</th>\n",
       "      <td>0.03</td>\n",
       "      <td>0.05</td>\n",
       "      <td>0.16</td>\n",
       "      <td>0.57</td>\n",
       "      <td>2.23</td>\n",
       "      <td>13.79</td>\n",
       "    </tr>\n",
       "    <tr>\n",
       "      <th>extemely concervative (local)</th>\n",
       "      <td>0.03</td>\n",
       "      <td>0.05</td>\n",
       "      <td>0.15</td>\n",
       "      <td>0.42</td>\n",
       "      <td>1.58</td>\n",
       "      <td>9.78</td>\n",
       "    </tr>\n",
       "    <tr>\n",
       "      <th>very concervative (local)</th>\n",
       "      <td>0.03</td>\n",
       "      <td>0.05</td>\n",
       "      <td>0.13</td>\n",
       "      <td>0.41</td>\n",
       "      <td>1.58</td>\n",
       "      <td>9.78</td>\n",
       "    </tr>\n",
       "    <tr>\n",
       "      <th>concervative (local)</th>\n",
       "      <td>0.03</td>\n",
       "      <td>0.04</td>\n",
       "      <td>0.11</td>\n",
       "      <td>0.41</td>\n",
       "      <td>1.58</td>\n",
       "      <td>9.78</td>\n",
       "    </tr>\n",
       "    <tr>\n",
       "      <th>local meas only (proposed)</th>\n",
       "      <td>0.03</td>\n",
       "      <td>0.04</td>\n",
       "      <td>0.11</td>\n",
       "      <td>0.41</td>\n",
       "      <td>1.58</td>\n",
       "      <td>9.78</td>\n",
       "    </tr>\n",
       "    <tr>\n",
       "      <th>shared measurements</th>\n",
       "      <td>0.03</td>\n",
       "      <td>0.03</td>\n",
       "      <td>0.11</td>\n",
       "      <td>0.41</td>\n",
       "      <td>1.58</td>\n",
       "      <td>9.78</td>\n",
       "    </tr>\n",
       "  </tbody>\n",
       "</table>\n",
       "</div>"
      ],
      "text/plain": [
       "                               0.0   1.0   2.5   5.0   10.0   25.0\n",
       "unconstrained                  0.03  0.05  0.16  0.57  2.23  13.79\n",
       "extemely concervative (local)  0.03  0.05  0.15  0.42  1.58   9.78\n",
       "very concervative (local)      0.03  0.05  0.13  0.41  1.58   9.78\n",
       "concervative (local)           0.03  0.04  0.11  0.41  1.58   9.78\n",
       "local meas only (proposed)     0.03  0.04  0.11  0.41  1.58   9.78\n",
       "shared measurements            0.03  0.03  0.11  0.41  1.58   9.78"
      ]
     },
     "metadata": {},
     "output_type": "display_data"
    },
    {
     "name": "stdout",
     "output_type": "stream",
     "text": [
      "xv\n"
     ]
    },
    {
     "data": {
      "text/html": [
       "<div>\n",
       "<style scoped>\n",
       "    .dataframe tbody tr th:only-of-type {\n",
       "        vertical-align: middle;\n",
       "    }\n",
       "\n",
       "    .dataframe tbody tr th {\n",
       "        vertical-align: top;\n",
       "    }\n",
       "\n",
       "    .dataframe thead th {\n",
       "        text-align: right;\n",
       "    }\n",
       "</style>\n",
       "<table border=\"1\" class=\"dataframe\">\n",
       "  <thead>\n",
       "    <tr style=\"text-align: right;\">\n",
       "      <th></th>\n",
       "      <th>0.0</th>\n",
       "      <th>1.0</th>\n",
       "      <th>2.5</th>\n",
       "      <th>5.0</th>\n",
       "      <th>10.0</th>\n",
       "      <th>25.0</th>\n",
       "    </tr>\n",
       "  </thead>\n",
       "  <tbody>\n",
       "    <tr>\n",
       "      <th>unconstrained</th>\n",
       "      <td>0.0</td>\n",
       "      <td>0.03</td>\n",
       "      <td>0.67</td>\n",
       "      <td>9.97</td>\n",
       "      <td>157.00</td>\n",
       "      <td>6071.21</td>\n",
       "    </tr>\n",
       "    <tr>\n",
       "      <th>extemely concervative (local)</th>\n",
       "      <td>0.0</td>\n",
       "      <td>0.03</td>\n",
       "      <td>0.57</td>\n",
       "      <td>2.86</td>\n",
       "      <td>3.90</td>\n",
       "      <td>4.00</td>\n",
       "    </tr>\n",
       "    <tr>\n",
       "      <th>very concervative (local)</th>\n",
       "      <td>0.0</td>\n",
       "      <td>0.03</td>\n",
       "      <td>0.40</td>\n",
       "      <td>0.91</td>\n",
       "      <td>1.00</td>\n",
       "      <td>1.00</td>\n",
       "    </tr>\n",
       "    <tr>\n",
       "      <th>concervative (local)</th>\n",
       "      <td>0.0</td>\n",
       "      <td>0.02</td>\n",
       "      <td>0.04</td>\n",
       "      <td>0.04</td>\n",
       "      <td>0.04</td>\n",
       "      <td>0.04</td>\n",
       "    </tr>\n",
       "    <tr>\n",
       "      <th>local meas only (proposed)</th>\n",
       "      <td>0.0</td>\n",
       "      <td>0.01</td>\n",
       "      <td>0.01</td>\n",
       "      <td>0.01</td>\n",
       "      <td>0.01</td>\n",
       "      <td>0.01</td>\n",
       "    </tr>\n",
       "    <tr>\n",
       "      <th>shared measurements</th>\n",
       "      <td>0.0</td>\n",
       "      <td>0.00</td>\n",
       "      <td>0.00</td>\n",
       "      <td>0.00</td>\n",
       "      <td>0.00</td>\n",
       "      <td>0.00</td>\n",
       "    </tr>\n",
       "  </tbody>\n",
       "</table>\n",
       "</div>"
      ],
      "text/plain": [
       "                               0.0   1.0   2.5   5.0     10.0     25.0\n",
       "unconstrained                   0.0  0.03  0.67  9.97  157.00  6071.21\n",
       "extemely concervative (local)   0.0  0.03  0.57  2.86    3.90     4.00\n",
       "very concervative (local)       0.0  0.03  0.40  0.91    1.00     1.00\n",
       "concervative (local)            0.0  0.02  0.04  0.04    0.04     0.04\n",
       "local meas only (proposed)      0.0  0.01  0.01  0.01    0.01     0.01\n",
       "shared measurements             0.0  0.00  0.00  0.00    0.00     0.00"
      ]
     },
     "metadata": {},
     "output_type": "display_data"
    },
    {
     "name": "stdout",
     "output_type": "stream",
     "text": [
      "xp\n"
     ]
    },
    {
     "data": {
      "text/html": [
       "<div>\n",
       "<style scoped>\n",
       "    .dataframe tbody tr th:only-of-type {\n",
       "        vertical-align: middle;\n",
       "    }\n",
       "\n",
       "    .dataframe tbody tr th {\n",
       "        vertical-align: top;\n",
       "    }\n",
       "\n",
       "    .dataframe thead th {\n",
       "        text-align: right;\n",
       "    }\n",
       "</style>\n",
       "<table border=\"1\" class=\"dataframe\">\n",
       "  <thead>\n",
       "    <tr style=\"text-align: right;\">\n",
       "      <th></th>\n",
       "      <th>0.0</th>\n",
       "      <th>1.0</th>\n",
       "      <th>2.5</th>\n",
       "      <th>5.0</th>\n",
       "      <th>10.0</th>\n",
       "      <th>25.0</th>\n",
       "    </tr>\n",
       "  </thead>\n",
       "  <tbody>\n",
       "    <tr>\n",
       "      <th>unconstrained</th>\n",
       "      <td>0.03</td>\n",
       "      <td>0.06</td>\n",
       "      <td>0.69</td>\n",
       "      <td>9.98</td>\n",
       "      <td>157.01</td>\n",
       "      <td>6071.22</td>\n",
       "    </tr>\n",
       "    <tr>\n",
       "      <th>extemely concervative (local)</th>\n",
       "      <td>0.03</td>\n",
       "      <td>0.06</td>\n",
       "      <td>0.59</td>\n",
       "      <td>2.89</td>\n",
       "      <td>4.21</td>\n",
       "      <td>10.57</td>\n",
       "    </tr>\n",
       "    <tr>\n",
       "      <th>very concervative (local)</th>\n",
       "      <td>0.03</td>\n",
       "      <td>0.05</td>\n",
       "      <td>0.42</td>\n",
       "      <td>1.00</td>\n",
       "      <td>1.87</td>\n",
       "      <td>9.83</td>\n",
       "    </tr>\n",
       "    <tr>\n",
       "      <th>concervative (local)</th>\n",
       "      <td>0.03</td>\n",
       "      <td>0.04</td>\n",
       "      <td>0.12</td>\n",
       "      <td>0.41</td>\n",
       "      <td>1.58</td>\n",
       "      <td>9.78</td>\n",
       "    </tr>\n",
       "    <tr>\n",
       "      <th>local meas only (proposed)</th>\n",
       "      <td>0.03</td>\n",
       "      <td>0.04</td>\n",
       "      <td>0.11</td>\n",
       "      <td>0.41</td>\n",
       "      <td>1.58</td>\n",
       "      <td>9.78</td>\n",
       "    </tr>\n",
       "    <tr>\n",
       "      <th>shared measurements</th>\n",
       "      <td>0.03</td>\n",
       "      <td>0.03</td>\n",
       "      <td>0.11</td>\n",
       "      <td>0.41</td>\n",
       "      <td>1.58</td>\n",
       "      <td>9.78</td>\n",
       "    </tr>\n",
       "  </tbody>\n",
       "</table>\n",
       "</div>"
      ],
      "text/plain": [
       "                               0.0   1.0   2.5   5.0     10.0     25.0\n",
       "unconstrained                  0.03  0.06  0.69  9.98  157.01  6071.22\n",
       "extemely concervative (local)  0.03  0.06  0.59  2.89    4.21    10.57\n",
       "very concervative (local)      0.03  0.05  0.42  1.00    1.87     9.83\n",
       "concervative (local)           0.03  0.04  0.12  0.41    1.58     9.78\n",
       "local meas only (proposed)     0.03  0.04  0.11  0.41    1.58     9.78\n",
       "shared measurements            0.03  0.03  0.11  0.41    1.58     9.78"
      ]
     },
     "metadata": {},
     "output_type": "display_data"
    }
   ],
   "source": [
    "print('xh')\n",
    "display(pd.DataFrame(arr_xh,index=NAMES,columns=xs))\n",
    "print('xv')\n",
    "display(pd.DataFrame(arr_xv,index=NAMES,columns=xs))\n",
    "print('xp')\n",
    "display(pd.DataFrame(arr_xp,index=NAMES,columns=xs))"
   ]
  },
  {
   "cell_type": "markdown",
   "id": "b088b1e4-3e18-4b6e-9d46-b22d29a25664",
   "metadata": {},
   "source": [
    "# Compute HDOP, VDOP, PDOP for varying $y$ at ($5$, $y$, $1$)"
   ]
  },
  {
   "cell_type": "code",
   "execution_count": 41,
   "id": "26d47b45-666b-4cc8-966f-90ba4053bc94",
   "metadata": {},
   "outputs": [
    {
     "data": {
      "application/vnd.jupyter.widget-view+json": {
       "model_id": "1ad82af3ddca4d2b925ab2e9b864b125",
       "version_major": 2,
       "version_minor": 0
      },
      "text/plain": [
       "  0%|          | 0/6 [00:00<?, ?it/s]"
      ]
     },
     "metadata": {},
     "output_type": "display_data"
    }
   ],
   "source": [
    "arr_y = mk_data_arr(y)\n",
    "arr_yh, arr_yv, arr_yp = mk_hvp(arr_y)"
   ]
  },
  {
   "cell_type": "code",
   "execution_count": 42,
   "id": "e393d69c-0866-4b54-b2c6-a53d0fbeb040",
   "metadata": {},
   "outputs": [
    {
     "name": "stdout",
     "output_type": "stream",
     "text": [
      "yh\n"
     ]
    },
    {
     "data": {
      "text/html": [
       "<div>\n",
       "<style scoped>\n",
       "    .dataframe tbody tr th:only-of-type {\n",
       "        vertical-align: middle;\n",
       "    }\n",
       "\n",
       "    .dataframe tbody tr th {\n",
       "        vertical-align: top;\n",
       "    }\n",
       "\n",
       "    .dataframe thead th {\n",
       "        text-align: right;\n",
       "    }\n",
       "</style>\n",
       "<table border=\"1\" class=\"dataframe\">\n",
       "  <thead>\n",
       "    <tr style=\"text-align: right;\">\n",
       "      <th></th>\n",
       "      <th>0.0</th>\n",
       "      <th>1.0</th>\n",
       "      <th>2.5</th>\n",
       "      <th>5.0</th>\n",
       "      <th>10.0</th>\n",
       "      <th>25.0</th>\n",
       "    </tr>\n",
       "  </thead>\n",
       "  <tbody>\n",
       "    <tr>\n",
       "      <th>unconstrained</th>\n",
       "      <td>0.57</td>\n",
       "      <td>0.59</td>\n",
       "      <td>0.71</td>\n",
       "      <td>1.12</td>\n",
       "      <td>2.78</td>\n",
       "      <td>14.34</td>\n",
       "    </tr>\n",
       "    <tr>\n",
       "      <th>extemely concervative (local)</th>\n",
       "      <td>0.42</td>\n",
       "      <td>0.43</td>\n",
       "      <td>0.46</td>\n",
       "      <td>0.62</td>\n",
       "      <td>1.64</td>\n",
       "      <td>9.79</td>\n",
       "    </tr>\n",
       "    <tr>\n",
       "      <th>very concervative (local)</th>\n",
       "      <td>0.41</td>\n",
       "      <td>0.41</td>\n",
       "      <td>0.43</td>\n",
       "      <td>0.58</td>\n",
       "      <td>1.63</td>\n",
       "      <td>9.79</td>\n",
       "    </tr>\n",
       "    <tr>\n",
       "      <th>concervative (local)</th>\n",
       "      <td>0.41</td>\n",
       "      <td>0.41</td>\n",
       "      <td>0.42</td>\n",
       "      <td>0.57</td>\n",
       "      <td>1.62</td>\n",
       "      <td>9.79</td>\n",
       "    </tr>\n",
       "    <tr>\n",
       "      <th>local meas only (proposed)</th>\n",
       "      <td>0.41</td>\n",
       "      <td>0.41</td>\n",
       "      <td>0.42</td>\n",
       "      <td>0.56</td>\n",
       "      <td>1.62</td>\n",
       "      <td>9.79</td>\n",
       "    </tr>\n",
       "    <tr>\n",
       "      <th>shared measurements</th>\n",
       "      <td>0.41</td>\n",
       "      <td>0.41</td>\n",
       "      <td>0.42</td>\n",
       "      <td>0.56</td>\n",
       "      <td>1.62</td>\n",
       "      <td>9.79</td>\n",
       "    </tr>\n",
       "  </tbody>\n",
       "</table>\n",
       "</div>"
      ],
      "text/plain": [
       "                               0.0   1.0   2.5   5.0   10.0   25.0\n",
       "unconstrained                  0.57  0.59  0.71  1.12  2.78  14.34\n",
       "extemely concervative (local)  0.42  0.43  0.46  0.62  1.64   9.79\n",
       "very concervative (local)      0.41  0.41  0.43  0.58  1.63   9.79\n",
       "concervative (local)           0.41  0.41  0.42  0.57  1.62   9.79\n",
       "local meas only (proposed)     0.41  0.41  0.42  0.56  1.62   9.79\n",
       "shared measurements            0.41  0.41  0.42  0.56  1.62   9.79"
      ]
     },
     "metadata": {},
     "output_type": "display_data"
    },
    {
     "name": "stdout",
     "output_type": "stream",
     "text": [
      "yv\n"
     ]
    },
    {
     "data": {
      "text/html": [
       "<div>\n",
       "<style scoped>\n",
       "    .dataframe tbody tr th:only-of-type {\n",
       "        vertical-align: middle;\n",
       "    }\n",
       "\n",
       "    .dataframe tbody tr th {\n",
       "        vertical-align: top;\n",
       "    }\n",
       "\n",
       "    .dataframe thead th {\n",
       "        text-align: right;\n",
       "    }\n",
       "</style>\n",
       "<table border=\"1\" class=\"dataframe\">\n",
       "  <thead>\n",
       "    <tr style=\"text-align: right;\">\n",
       "      <th></th>\n",
       "      <th>0.0</th>\n",
       "      <th>1.0</th>\n",
       "      <th>2.5</th>\n",
       "      <th>5.0</th>\n",
       "      <th>10.0</th>\n",
       "      <th>25.0</th>\n",
       "    </tr>\n",
       "  </thead>\n",
       "  <tbody>\n",
       "    <tr>\n",
       "      <th>unconstrained</th>\n",
       "      <td>9.97</td>\n",
       "      <td>10.77</td>\n",
       "      <td>15.51</td>\n",
       "      <td>39.45</td>\n",
       "      <td>245.04</td>\n",
       "      <td>6563.17</td>\n",
       "    </tr>\n",
       "    <tr>\n",
       "      <th>extemely concervative (local)</th>\n",
       "      <td>2.86</td>\n",
       "      <td>2.92</td>\n",
       "      <td>3.18</td>\n",
       "      <td>3.63</td>\n",
       "      <td>3.94</td>\n",
       "      <td>4.00</td>\n",
       "    </tr>\n",
       "    <tr>\n",
       "      <th>very concervative (local)</th>\n",
       "      <td>0.91</td>\n",
       "      <td>0.92</td>\n",
       "      <td>0.94</td>\n",
       "      <td>0.98</td>\n",
       "      <td>1.00</td>\n",
       "      <td>1.00</td>\n",
       "    </tr>\n",
       "    <tr>\n",
       "      <th>concervative (local)</th>\n",
       "      <td>0.04</td>\n",
       "      <td>0.04</td>\n",
       "      <td>0.04</td>\n",
       "      <td>0.04</td>\n",
       "      <td>0.04</td>\n",
       "      <td>0.04</td>\n",
       "    </tr>\n",
       "    <tr>\n",
       "      <th>local meas only (proposed)</th>\n",
       "      <td>0.01</td>\n",
       "      <td>0.01</td>\n",
       "      <td>0.01</td>\n",
       "      <td>0.01</td>\n",
       "      <td>0.01</td>\n",
       "      <td>0.01</td>\n",
       "    </tr>\n",
       "    <tr>\n",
       "      <th>shared measurements</th>\n",
       "      <td>0.00</td>\n",
       "      <td>0.00</td>\n",
       "      <td>0.00</td>\n",
       "      <td>0.00</td>\n",
       "      <td>0.00</td>\n",
       "      <td>0.00</td>\n",
       "    </tr>\n",
       "  </tbody>\n",
       "</table>\n",
       "</div>"
      ],
      "text/plain": [
       "                               0.0    1.0    2.5    5.0     10.0     25.0\n",
       "unconstrained                  9.97  10.77  15.51  39.45  245.04  6563.17\n",
       "extemely concervative (local)  2.86   2.92   3.18   3.63    3.94     4.00\n",
       "very concervative (local)      0.91   0.92   0.94   0.98    1.00     1.00\n",
       "concervative (local)           0.04   0.04   0.04   0.04    0.04     0.04\n",
       "local meas only (proposed)     0.01   0.01   0.01   0.01    0.01     0.01\n",
       "shared measurements            0.00   0.00   0.00   0.00    0.00     0.00"
      ]
     },
     "metadata": {},
     "output_type": "display_data"
    },
    {
     "name": "stdout",
     "output_type": "stream",
     "text": [
      "yp\n"
     ]
    },
    {
     "data": {
      "text/html": [
       "<div>\n",
       "<style scoped>\n",
       "    .dataframe tbody tr th:only-of-type {\n",
       "        vertical-align: middle;\n",
       "    }\n",
       "\n",
       "    .dataframe tbody tr th {\n",
       "        vertical-align: top;\n",
       "    }\n",
       "\n",
       "    .dataframe thead th {\n",
       "        text-align: right;\n",
       "    }\n",
       "</style>\n",
       "<table border=\"1\" class=\"dataframe\">\n",
       "  <thead>\n",
       "    <tr style=\"text-align: right;\">\n",
       "      <th></th>\n",
       "      <th>0.0</th>\n",
       "      <th>1.0</th>\n",
       "      <th>2.5</th>\n",
       "      <th>5.0</th>\n",
       "      <th>10.0</th>\n",
       "      <th>25.0</th>\n",
       "    </tr>\n",
       "  </thead>\n",
       "  <tbody>\n",
       "    <tr>\n",
       "      <th>unconstrained</th>\n",
       "      <td>9.98</td>\n",
       "      <td>10.79</td>\n",
       "      <td>15.52</td>\n",
       "      <td>39.47</td>\n",
       "      <td>245.06</td>\n",
       "      <td>6563.19</td>\n",
       "    </tr>\n",
       "    <tr>\n",
       "      <th>extemely concervative (local)</th>\n",
       "      <td>2.89</td>\n",
       "      <td>2.95</td>\n",
       "      <td>3.21</td>\n",
       "      <td>3.69</td>\n",
       "      <td>4.26</td>\n",
       "      <td>10.57</td>\n",
       "    </tr>\n",
       "    <tr>\n",
       "      <th>very concervative (local)</th>\n",
       "      <td>1.00</td>\n",
       "      <td>1.00</td>\n",
       "      <td>1.03</td>\n",
       "      <td>1.14</td>\n",
       "      <td>1.91</td>\n",
       "      <td>9.84</td>\n",
       "    </tr>\n",
       "    <tr>\n",
       "      <th>concervative (local)</th>\n",
       "      <td>0.41</td>\n",
       "      <td>0.41</td>\n",
       "      <td>0.42</td>\n",
       "      <td>0.57</td>\n",
       "      <td>1.62</td>\n",
       "      <td>9.79</td>\n",
       "    </tr>\n",
       "    <tr>\n",
       "      <th>local meas only (proposed)</th>\n",
       "      <td>0.41</td>\n",
       "      <td>0.41</td>\n",
       "      <td>0.42</td>\n",
       "      <td>0.56</td>\n",
       "      <td>1.62</td>\n",
       "      <td>9.79</td>\n",
       "    </tr>\n",
       "    <tr>\n",
       "      <th>shared measurements</th>\n",
       "      <td>0.41</td>\n",
       "      <td>0.41</td>\n",
       "      <td>0.42</td>\n",
       "      <td>0.56</td>\n",
       "      <td>1.62</td>\n",
       "      <td>9.79</td>\n",
       "    </tr>\n",
       "  </tbody>\n",
       "</table>\n",
       "</div>"
      ],
      "text/plain": [
       "                               0.0    1.0    2.5    5.0     10.0     25.0\n",
       "unconstrained                  9.98  10.79  15.52  39.47  245.06  6563.19\n",
       "extemely concervative (local)  2.89   2.95   3.21   3.69    4.26    10.57\n",
       "very concervative (local)      1.00   1.00   1.03   1.14    1.91     9.84\n",
       "concervative (local)           0.41   0.41   0.42   0.57    1.62     9.79\n",
       "local meas only (proposed)     0.41   0.41   0.42   0.56    1.62     9.79\n",
       "shared measurements            0.41   0.41   0.42   0.56    1.62     9.79"
      ]
     },
     "metadata": {},
     "output_type": "display_data"
    }
   ],
   "source": [
    "print('yh')\n",
    "display(pd.DataFrame(arr_yh,index=NAMES,columns=xs))\n",
    "print('yv')\n",
    "display(pd.DataFrame(arr_yv,index=NAMES,columns=xs))\n",
    "print('yp')\n",
    "display(pd.DataFrame(arr_yp,index=NAMES,columns=xs))"
   ]
  },
  {
   "cell_type": "markdown",
   "id": "d08c7d9a-3b48-49e1-8fae-bf446d820708",
   "metadata": {},
   "source": [
    "# Compute HDOP, VDOP, PDOP for varying $y$ at ($5$, $0$, $z$)"
   ]
  },
  {
   "cell_type": "code",
   "execution_count": 43,
   "id": "6fcf76a3-9353-404f-806a-74dcd41a7c09",
   "metadata": {},
   "outputs": [
    {
     "data": {
      "application/vnd.jupyter.widget-view+json": {
       "model_id": "18533b65e4514018aa47f57504448cc4",
       "version_major": 2,
       "version_minor": 0
      },
      "text/plain": [
       "  0%|          | 0/6 [00:00<?, ?it/s]"
      ]
     },
     "metadata": {},
     "output_type": "display_data"
    }
   ],
   "source": [
    "arr_z = mk_data_arr(z)\n",
    "arr_zh, arr_zv, arr_zp = mk_hvp(arr_z)"
   ]
  },
  {
   "cell_type": "code",
   "execution_count": 44,
   "id": "8a89672a-cb21-421b-a0da-b9121ede3114",
   "metadata": {},
   "outputs": [
    {
     "name": "stdout",
     "output_type": "stream",
     "text": [
      "zh\n"
     ]
    },
    {
     "data": {
      "text/html": [
       "<div>\n",
       "<style scoped>\n",
       "    .dataframe tbody tr th:only-of-type {\n",
       "        vertical-align: middle;\n",
       "    }\n",
       "\n",
       "    .dataframe tbody tr th {\n",
       "        vertical-align: top;\n",
       "    }\n",
       "\n",
       "    .dataframe thead th {\n",
       "        text-align: right;\n",
       "    }\n",
       "</style>\n",
       "<table border=\"1\" class=\"dataframe\">\n",
       "  <thead>\n",
       "    <tr style=\"text-align: right;\">\n",
       "      <th></th>\n",
       "      <th>0.0</th>\n",
       "      <th>1.0</th>\n",
       "      <th>2.5</th>\n",
       "      <th>5.0</th>\n",
       "      <th>10.0</th>\n",
       "      <th>25.0</th>\n",
       "    </tr>\n",
       "  </thead>\n",
       "  <tbody>\n",
       "    <tr>\n",
       "      <th>unconstrained</th>\n",
       "      <td>0.39</td>\n",
       "      <td>0.57</td>\n",
       "      <td>0.69</td>\n",
       "      <td>1.11</td>\n",
       "      <td>2.77</td>\n",
       "      <td>14.37</td>\n",
       "    </tr>\n",
       "    <tr>\n",
       "      <th>extemely concervative (local)</th>\n",
       "      <td>0.39</td>\n",
       "      <td>0.42</td>\n",
       "      <td>0.59</td>\n",
       "      <td>1.02</td>\n",
       "      <td>2.62</td>\n",
       "      <td>13.72</td>\n",
       "    </tr>\n",
       "    <tr>\n",
       "      <th>very concervative (local)</th>\n",
       "      <td>0.39</td>\n",
       "      <td>0.41</td>\n",
       "      <td>0.52</td>\n",
       "      <td>0.90</td>\n",
       "      <td>2.36</td>\n",
       "      <td>12.47</td>\n",
       "    </tr>\n",
       "    <tr>\n",
       "      <th>concervative (local)</th>\n",
       "      <td>0.39</td>\n",
       "      <td>0.41</td>\n",
       "      <td>0.49</td>\n",
       "      <td>0.78</td>\n",
       "      <td>1.96</td>\n",
       "      <td>10.21</td>\n",
       "    </tr>\n",
       "    <tr>\n",
       "      <th>local meas only (proposed)</th>\n",
       "      <td>0.39</td>\n",
       "      <td>0.41</td>\n",
       "      <td>0.49</td>\n",
       "      <td>0.78</td>\n",
       "      <td>1.96</td>\n",
       "      <td>10.17</td>\n",
       "    </tr>\n",
       "    <tr>\n",
       "      <th>shared measurements</th>\n",
       "      <td>0.39</td>\n",
       "      <td>0.41</td>\n",
       "      <td>0.49</td>\n",
       "      <td>0.78</td>\n",
       "      <td>1.96</td>\n",
       "      <td>10.16</td>\n",
       "    </tr>\n",
       "  </tbody>\n",
       "</table>\n",
       "</div>"
      ],
      "text/plain": [
       "                               0.0   1.0   2.5   5.0   10.0   25.0\n",
       "unconstrained                  0.39  0.57  0.69  1.11  2.77  14.37\n",
       "extemely concervative (local)  0.39  0.42  0.59  1.02  2.62  13.72\n",
       "very concervative (local)      0.39  0.41  0.52  0.90  2.36  12.47\n",
       "concervative (local)           0.39  0.41  0.49  0.78  1.96  10.21\n",
       "local meas only (proposed)     0.39  0.41  0.49  0.78  1.96  10.17\n",
       "shared measurements            0.39  0.41  0.49  0.78  1.96  10.16"
      ]
     },
     "metadata": {},
     "output_type": "display_data"
    },
    {
     "name": "stdout",
     "output_type": "stream",
     "text": [
      "zv\n"
     ]
    },
    {
     "data": {
      "text/html": [
       "<div>\n",
       "<style scoped>\n",
       "    .dataframe tbody tr th:only-of-type {\n",
       "        vertical-align: middle;\n",
       "    }\n",
       "\n",
       "    .dataframe tbody tr th {\n",
       "        vertical-align: top;\n",
       "    }\n",
       "\n",
       "    .dataframe thead th {\n",
       "        text-align: right;\n",
       "    }\n",
       "</style>\n",
       "<table border=\"1\" class=\"dataframe\">\n",
       "  <thead>\n",
       "    <tr style=\"text-align: right;\">\n",
       "      <th></th>\n",
       "      <th>0.0</th>\n",
       "      <th>1.0</th>\n",
       "      <th>2.5</th>\n",
       "      <th>5.0</th>\n",
       "      <th>10.0</th>\n",
       "      <th>25.0</th>\n",
       "    </tr>\n",
       "  </thead>\n",
       "  <tbody>\n",
       "    <tr>\n",
       "      <th>unconstrained</th>\n",
       "      <td>inf</td>\n",
       "      <td>9.97</td>\n",
       "      <td>1.93</td>\n",
       "      <td>0.78</td>\n",
       "      <td>0.49</td>\n",
       "      <td>0.41</td>\n",
       "    </tr>\n",
       "    <tr>\n",
       "      <th>extemely concervative (local)</th>\n",
       "      <td>4.00</td>\n",
       "      <td>2.86</td>\n",
       "      <td>1.30</td>\n",
       "      <td>0.65</td>\n",
       "      <td>0.44</td>\n",
       "      <td>0.37</td>\n",
       "    </tr>\n",
       "    <tr>\n",
       "      <th>very concervative (local)</th>\n",
       "      <td>1.00</td>\n",
       "      <td>0.91</td>\n",
       "      <td>0.66</td>\n",
       "      <td>0.44</td>\n",
       "      <td>0.33</td>\n",
       "      <td>0.29</td>\n",
       "    </tr>\n",
       "    <tr>\n",
       "      <th>concervative (local)</th>\n",
       "      <td>0.04</td>\n",
       "      <td>0.04</td>\n",
       "      <td>0.04</td>\n",
       "      <td>0.04</td>\n",
       "      <td>0.04</td>\n",
       "      <td>0.04</td>\n",
       "    </tr>\n",
       "    <tr>\n",
       "      <th>local meas only (proposed)</th>\n",
       "      <td>0.01</td>\n",
       "      <td>0.01</td>\n",
       "      <td>0.01</td>\n",
       "      <td>0.01</td>\n",
       "      <td>0.01</td>\n",
       "      <td>0.01</td>\n",
       "    </tr>\n",
       "    <tr>\n",
       "      <th>shared measurements</th>\n",
       "      <td>0.00</td>\n",
       "      <td>0.00</td>\n",
       "      <td>0.00</td>\n",
       "      <td>0.00</td>\n",
       "      <td>0.00</td>\n",
       "      <td>0.00</td>\n",
       "    </tr>\n",
       "  </tbody>\n",
       "</table>\n",
       "</div>"
      ],
      "text/plain": [
       "                               0.0   1.0   2.5   5.0   10.0  25.0\n",
       "unconstrained                   inf  9.97  1.93  0.78  0.49  0.41\n",
       "extemely concervative (local)  4.00  2.86  1.30  0.65  0.44  0.37\n",
       "very concervative (local)      1.00  0.91  0.66  0.44  0.33  0.29\n",
       "concervative (local)           0.04  0.04  0.04  0.04  0.04  0.04\n",
       "local meas only (proposed)     0.01  0.01  0.01  0.01  0.01  0.01\n",
       "shared measurements            0.00  0.00  0.00  0.00  0.00  0.00"
      ]
     },
     "metadata": {},
     "output_type": "display_data"
    },
    {
     "name": "stdout",
     "output_type": "stream",
     "text": [
      "zp\n"
     ]
    },
    {
     "data": {
      "text/html": [
       "<div>\n",
       "<style scoped>\n",
       "    .dataframe tbody tr th:only-of-type {\n",
       "        vertical-align: middle;\n",
       "    }\n",
       "\n",
       "    .dataframe tbody tr th {\n",
       "        vertical-align: top;\n",
       "    }\n",
       "\n",
       "    .dataframe thead th {\n",
       "        text-align: right;\n",
       "    }\n",
       "</style>\n",
       "<table border=\"1\" class=\"dataframe\">\n",
       "  <thead>\n",
       "    <tr style=\"text-align: right;\">\n",
       "      <th></th>\n",
       "      <th>0.0</th>\n",
       "      <th>1.0</th>\n",
       "      <th>2.5</th>\n",
       "      <th>5.0</th>\n",
       "      <th>10.0</th>\n",
       "      <th>25.0</th>\n",
       "    </tr>\n",
       "  </thead>\n",
       "  <tbody>\n",
       "    <tr>\n",
       "      <th>unconstrained</th>\n",
       "      <td>inf</td>\n",
       "      <td>9.98</td>\n",
       "      <td>2.05</td>\n",
       "      <td>1.35</td>\n",
       "      <td>2.81</td>\n",
       "      <td>14.38</td>\n",
       "    </tr>\n",
       "    <tr>\n",
       "      <th>extemely concervative (local)</th>\n",
       "      <td>4.02</td>\n",
       "      <td>2.89</td>\n",
       "      <td>1.43</td>\n",
       "      <td>1.21</td>\n",
       "      <td>2.66</td>\n",
       "      <td>13.73</td>\n",
       "    </tr>\n",
       "    <tr>\n",
       "      <th>very concervative (local)</th>\n",
       "      <td>1.08</td>\n",
       "      <td>1.00</td>\n",
       "      <td>0.84</td>\n",
       "      <td>1.00</td>\n",
       "      <td>2.38</td>\n",
       "      <td>12.48</td>\n",
       "    </tr>\n",
       "    <tr>\n",
       "      <th>concervative (local)</th>\n",
       "      <td>0.39</td>\n",
       "      <td>0.41</td>\n",
       "      <td>0.49</td>\n",
       "      <td>0.79</td>\n",
       "      <td>1.96</td>\n",
       "      <td>10.21</td>\n",
       "    </tr>\n",
       "    <tr>\n",
       "      <th>local meas only (proposed)</th>\n",
       "      <td>0.39</td>\n",
       "      <td>0.41</td>\n",
       "      <td>0.49</td>\n",
       "      <td>0.78</td>\n",
       "      <td>1.96</td>\n",
       "      <td>10.17</td>\n",
       "    </tr>\n",
       "    <tr>\n",
       "      <th>shared measurements</th>\n",
       "      <td>0.39</td>\n",
       "      <td>0.41</td>\n",
       "      <td>0.49</td>\n",
       "      <td>0.78</td>\n",
       "      <td>1.96</td>\n",
       "      <td>10.16</td>\n",
       "    </tr>\n",
       "  </tbody>\n",
       "</table>\n",
       "</div>"
      ],
      "text/plain": [
       "                               0.0   1.0   2.5   5.0   10.0   25.0\n",
       "unconstrained                   inf  9.98  2.05  1.35  2.81  14.38\n",
       "extemely concervative (local)  4.02  2.89  1.43  1.21  2.66  13.73\n",
       "very concervative (local)      1.08  1.00  0.84  1.00  2.38  12.48\n",
       "concervative (local)           0.39  0.41  0.49  0.79  1.96  10.21\n",
       "local meas only (proposed)     0.39  0.41  0.49  0.78  1.96  10.17\n",
       "shared measurements            0.39  0.41  0.49  0.78  1.96  10.16"
      ]
     },
     "metadata": {},
     "output_type": "display_data"
    }
   ],
   "source": [
    "print('zh')\n",
    "display(pd.DataFrame(arr_zh,index=NAMES,columns=xs))\n",
    "print('zv')\n",
    "display(pd.DataFrame(arr_zv,index=NAMES,columns=xs))\n",
    "print('zp')\n",
    "display(pd.DataFrame(arr_zp,index=NAMES,columns=xs))"
   ]
  },
  {
   "cell_type": "code",
   "execution_count": null,
   "id": "4e7676e0-0686-4267-8568-14b6629259bc",
   "metadata": {},
   "outputs": [],
   "source": []
  }
 ],
 "metadata": {
  "kernelspec": {
   "display_name": "Python 3 (ipykernel)",
   "language": "python",
   "name": "python3"
  },
  "language_info": {
   "codemirror_mode": {
    "name": "ipython",
    "version": 3
   },
   "file_extension": ".py",
   "mimetype": "text/x-python",
   "name": "python",
   "nbconvert_exporter": "python",
   "pygments_lexer": "ipython3",
   "version": "3.8.10"
  }
 },
 "nbformat": 4,
 "nbformat_minor": 5
}
